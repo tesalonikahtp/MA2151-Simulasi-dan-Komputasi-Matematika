{
  "nbformat": 4,
  "nbformat_minor": 0,
  "metadata": {
    "colab": {
      "provenance": []
    },
    "kernelspec": {
      "name": "python3",
      "display_name": "Python 3"
    },
    "language_info": {
      "name": "python"
    }
  },
  "cells": [
    {
      "cell_type": "markdown",
      "source": [
        "**PRAKTIKUM KE-5**\n",
        "Tanggal: 03 11 2022"
      ],
      "metadata": {
        "id": "wZRRMjhqd1WX"
      }
    },
    {
      "cell_type": "markdown",
      "source": [
        " * Nama : Tesalonika Permatasari\n",
        " * Nim  : 10121052"
      ],
      "metadata": {
        "id": "VVb23kFWdG7r"
      }
    },
    {
      "cell_type": "code",
      "source": [
        "import numpy as np\n",
        "import matplotlib.pyplot as plt"
      ],
      "metadata": {
        "id": "DfoJsZvgpOdD"
      },
      "execution_count": null,
      "outputs": []
    },
    {
      "cell_type": "markdown",
      "source": [
        "# 1. BJAY dan virus pusing di kota Bjir"
      ],
      "metadata": {
        "id": "RVAoQgjl9Csc"
      }
    },
    {
      "cell_type": "markdown",
      "source": [
        "## a.\n",
        "\n",
        "masih ingatkah kalian ketika Bjay jatuh pusing karena begadang untuk belajar ujian? ternyata ia pusing karena terkena infeksi virus yang baru saja tersebar, sehingga dirinya menjadi manusia pertama yang terinfeksi virus ini. Karena Bjay harus pergi ke sekolah untuk melaksanakan ujian, Ia secara langsung menyebarkan virus yang selanjutnya akan menimbulkan wabah di kota Bjir.\n",
        "\n",
        "persamaan dari penyebaran virus mengikuti persamaan berikut:\n",
        "$$  \n",
        "\\frac{dS}{dt} = -\\frac{\\beta I S}{N}\n",
        "$$\n",
        "$$  \n",
        "\\frac{dI}{dt} = \\frac{\\beta I S}{N} - \\gamma I\n",
        "$$\n",
        "$$  \n",
        "\\frac{dR}{dt} = \\gamma I\n",
        "$$\n",
        "\n",
        "dengan $N = S+I+R$, $\\beta$ menyatakan konstanta infeksi virus, dan $\\gamma$ menyatakan konstanta penyembuhan dari virus ini.\n",
        "\n",
        "misalkan jumlah penduduk ada sebanyak $177$, pada kondisi awal hanya Bjay yang terinfeksi, dan terdapat pertumbuhan penduduk (dengan konstanta pertumbuhan $\\alpha = 0.011$) yang <u>hanya</u> dihitung setiap pergantian hari serta tidak ada penduduk yang mati.\n",
        "\n",
        "dengan $\\beta = 0.2931$ dan $\\gamma = 0.0332$, buatlah grafik S, I, dan R selama 30 hari dengan menggunakan $\\Delta t = 10^{-2}$!\n",
        "\n",
        "(asumsikan t = 1 hari)"
      ],
      "metadata": {
        "id": "eOrpdnPI4-BP"
      }
    },
    {
      "cell_type": "code",
      "source": [
        "S = 176  #Populasi awal penduduk\n",
        "I = 1 #Banyak yang terinfeksi\n",
        "R = 0\n",
        "alpha = 0.011  #Konstanta pertumbuhan\n",
        "b = 0.2931  #Konstanta infeksi virus\n",
        "g = 0.0332  #Konstanta penyembuhan virus\n",
        "dt = 0.01  #delta waktu\n",
        "\n",
        "t = 1\n",
        "\n",
        "Sa = [] #Array kosong untuk S\n",
        "Ia = [] #Array kosong untuk I\n",
        "Ra = [] #Array kosong untuk R\n",
        "\n",
        "ta = [] #Array kosong untuk waktu\n",
        "\n",
        "i = 1\n",
        "while(t<=(30/dt)):\n",
        "    Sa.append(S)\n",
        "    Ia.append(I)\n",
        "    Ra.append(R)\n",
        "    ta.append(t/100)\n",
        "    Snew = S + (((-1)*b*I*S)/(S+I+R))*dt\n",
        "    Inew = I + (((b*I*S)/(S+I+R))-(g*I))*dt\n",
        "    Rnew = R + (g*I)*dt\n",
        "    S = Snew\n",
        "    I = Inew\n",
        "    R = Rnew\n",
        "    t+=1\n",
        "\n",
        "\n",
        "plt.plot(ta,Sa,color = \"black\")\n",
        "plt.plot(ta,Ia, color = \"blue\")\n",
        "plt.plot(ta,Ra, linestyle = \"dotted\")\n",
        "plt.legend([\"S\", \"I\", \"R\"])\n",
        "plt.show\n",
        "\n",
        "\n"
      ],
      "metadata": {
        "id": "ndOZqKFxW10E",
        "colab": {
          "base_uri": "https://localhost:8080/",
          "height": 282
        },
        "outputId": "6a0972f9-e767-441b-a57e-0c6164022f8f"
      },
      "execution_count": null,
      "outputs": [
        {
          "output_type": "execute_result",
          "data": {
            "text/plain": [
              "<function matplotlib.pyplot.show(*args, **kw)>"
            ]
          },
          "metadata": {},
          "execution_count": 3
        },
        {
          "output_type": "display_data",
          "data": {
            "text/plain": [
              "<Figure size 432x288 with 1 Axes>"
            ],
            "image/png": "[encoded data removed]"
          },
          "metadata": {
            "needs_background": "light"
          }
        }
      ]
    },
    {
      "cell_type": "markdown",
      "source": [
        "## b.\n",
        "\n",
        "setelah 1 bulan, virusnya berevolusi (hadeh).\n",
        "\n",
        "virusnya tidak langsung membuat orang yang terpapar menjadi infeksi, namun ada fase terpapar (exposed) dulu. ditambah lagi, karena ternyata 1 bulan semenjak virus tersebar adalah musim liburan, orang-orang mulai keluar masuk kota untuk jalan-jalan sehingga persamaan berubah, yakni sebagai berikut:\n",
        "\n",
        "$$  \n",
        "\\frac{dS}{dt} = \\frac{\\mu N}{I} - \\nu S-\\frac{\\beta I S}{N}\n",
        "$$\n",
        "$$  \n",
        "\\frac{dE}{dt} = \\frac{\\beta I S}{N} - \\nu E - \\sigma E\n",
        "$$\n",
        "$$  \n",
        "\\frac{dI}{dt} = \\sigma E - \\nu 'I - \\gamma I\n",
        "$$\n",
        "$$  \n",
        "\\frac{dR}{dt} = \\gamma I - \\nu R\n",
        "$$\n",
        "\n",
        "dengan $N = S+E+I+R$, $\\mu$ menyatakan konstanta pengunjung datang ke kota, $\\nu$ menyatakan konstanta orang keluar dari kota, dan $\\sigma$ menyatakan konstanta orang berubah dari hanya terpapar menjadi terinfeksi. Karena orang infected pasti memiliki kemungkinan lebih kecil untuk bepergian, maka terdapat perbedaan nilai untuk konstanta keluar, yakni $\\nu ' = \\frac{1}{3}\\nu$.\n",
        "\n",
        "Apabila nilai $\\mu = 0.35$, $\\nu = 0.000135$, dan $\\sigma = 0.002351$, buatlah grafik S, E, I, dan R untuk 60 hari semenjak Bjay terpapar virus dengan menggunakan $\\Delta t = 10^{-2}$!\n",
        "\n",
        "(note : pertumbuhan penduduk pada butir 1 masih berlaku dan persamaan di butir ini hanya berlaku setelah virus berevolusi, sehingga 30 hari pertama masih menggunakan persamaan pada butir 1.)"
      ],
      "metadata": {
        "id": "DSvql6wWDeWR"
      }
    },
    {
      "cell_type": "code",
      "source": [
        "miu = 0.35  #Konstanta pengunjung datang ke kota\n",
        "v = 0.000135  #Konstanta orang keluar dari kota\n",
        "sigma = 0.002351  #Konstanta orang berubah dari hanya terpapar menjadi terinfeksi\n",
        "vt = v/3  #Konstanta keluar\n",
        "t = 0\n",
        "dt = 0.01\n",
        "E = 0\n",
        "\n",
        "Sa = []  #Array kosong untuk populasi S\n",
        "Ea = []  #Array kosong untuk populasi E\n",
        "Ia = []  #Array kosong untuk populasi I\n",
        "Ra = []  #Array kosong untuk populasi R\n",
        "\n",
        "ta = []  #Array kosong untuk waktu\n",
        "i = 1\n",
        "#Kondisi sebelum berevolusi\n",
        "while(t<=30):\n",
        "  if(t == (i+1)): #Karena populasi akan bertambah setiap hari berganti, maka setiap t sudah sama dengan i+1 akan terjadi perlakuan tambahan terhadap S\n",
        "    Sa.append(S)\n",
        "    Ia.append(I)\n",
        "    Ra.append(R)\n",
        "    ta.append(t)\n",
        "    Snew = S + (((-1)*I*S)/(S+I+R))*dt\n",
        "    Inew = I + (((b*I*S)/(S+I+R))-(g*I))*dt\n",
        "    Rnew = R + (g*I)*dt\n",
        "    Snew = Snew + alpha*(S+I+R) #Di sini alpha akan berpengaruh\n",
        "    S = Snew\n",
        "    I = Inew\n",
        "    R = Rnew\n",
        "    t+=dt\n",
        "    i+=1 #i akan bertambah untuk nanti di t selanjutnya\n",
        "  else :\n",
        "    Sa.append(S)\n",
        "    Ia.append(I)\n",
        "    Ra.append(R)\n",
        "    ta.append(t)\n",
        "    Snew = S + (((-1)*I*S)/(S+I+R))*dt\n",
        "    Inew = I + (((b*I*S)/(S+I+R))-(g*I))*dt\n",
        "    Rnew = R + (g*I)*dt\n",
        "    S = Snew\n",
        "    I = Inew\n",
        "    R = Rnew\n",
        "    t+=dt\n",
        "\n",
        "#Setelah virus berevolusi\n",
        "while(t>30):\n",
        "    Sa.append(S)\n",
        "    Ia.append(I)\n",
        "    Ea.append(E)\n",
        "    Ra.append(R)\n",
        "    ta.append(t)\n",
        "    Snew = S + (miu*(S+I+R)/I - v*S - b*I*S/(S+I+R))*dt\n",
        "    Enew = E + (b*I*S/(S+I+R) - v*E - sigma*E)*dt\n",
        "    Inew = I + (sigma*E - vt*I - g*I)*dt\n",
        "    Rnew = R + (g*I - v*R)*dt\n",
        "    S = Snew\n",
        "    I = Inew\n",
        "    E = Enew\n",
        "    R = Rnew\n",
        "    t+=dt\n",
        "\n",
        "plt.plot(ta,Sa,color = \"black\")\n",
        "plt.plot(ta,Ia, color = \"blue\")\n",
        "plt.plot(ta,Ra, linestyle = \"dotted\")\n",
        "plt.plot(ta,Ea, linestyle = \"dashed\")\n",
        "plt.legend([\"S\", \"I\", \"R\"])\n",
        "plt.show\n"
      ],
      "metadata": {
        "id": "3P2x4wEAXDDd"
      },
      "execution_count": null,
      "outputs": []
    },
    {
      "cell_type": "markdown",
      "source": [
        "# **2. Who wants to be the next asprak?**\n",
        "\n",
        "Terkisah seorang ada seorang Mahasiswa jurusan Matematika ITB bernama Daffa yang ingin menjadi asisten praktikum. Di tahun ini, ia ingin mengikuti seleksi untuk asisten praktikum Sikomat. Karena Daffa ini orangnya memang penuh ambisi, ia mencari tahu soal nilai minimum seleksi agar ia dapat diterima menjadi asisten praktikum.\n",
        "\n",
        "Setelah mencari data nilai-nilai asprak sebelumnya dan mengolah data tersebut, dia mendapati bahwa dari tahun 2008 sampai 2020, nilai minimum untuk menjadi asprak Sikomat berubah-ubah setiap tahunnya mengikuti suatu fungsi $N(t)$ dengan perubahan sebesar\n",
        "$$\n",
        "  \\frac{dN}{dt}= \\frac{N}{50} + \\frac{\\ln(N^4)}{40} + \\frac{\\sqrt{tan(1-\\frac{1}{N})}}{30}\n",
        "$$\n",
        "Dia juga mendapati bahwa nilai minimum setelah tahun 2020 berubah mengikuti suatu fungsi suatu fungsi $N(t)$ dengan perubahan sebesar\n",
        "$$\n",
        "  \\frac{dN}{dt}= \\frac{-Nt^2+N^2t+2020Nt-2020N^2}{e^{12}} + 2.7386438779129763\n",
        "$$\n",
        "\n",
        "\n",
        "Daffa tahu bahwa di tahun 2013  nilai minimum untuk menjadi asprak Sikomat adalah 60.\n",
        "\n",
        "#### **Hint:** Kalau bingung, $N(t)$ itu fungsi piecewise\n",
        "#### Asumsikan $N(t)$ kontinu"
      ],
      "metadata": {
        "id": "pQ3VwqMFVEsU"
      }
    },
    {
      "cell_type": "markdown",
      "source": [
        "Untuk membantu Daffa membuat prediksi, buatlah taksiran nilai minimum untuk menjadi asprak Sikomat di tahun 2023 menggunakan metode Runge-Kutta orde 4 dengan $\\Delta t = 0.001$!\n",
        "\n",
        "Plot juga grafik $N(t)$ saat $2013 \\le t \\le 2023$ dan buat bar chart untuk nilai tiap tahunnya dari 2013 sampai 2023\n",
        "\n",
        "*Bar chart dapat dibuat dengan menggunakan plt.bar(x,y)*"
      ],
      "metadata": {
        "id": "rx3gp_FYeerR"
      }
    },
    {
      "cell_type": "code",
      "source": [
        "dt = 0.001\n",
        "t = 2013  #tahun awal\n",
        "N_array = []\n",
        "t_array = []\n",
        "N = 60 #Nilai di waktu awal\n",
        "\n",
        "def before(N): #fungsi untuk kasus sebelum tahun 2020\n",
        "  return(N/50 + np.log(N**4)/40 + ((np.tan(1 - 1/N))**0.5)/30 )\n",
        "\n",
        "def after(N,t): #fungsi untuk kasus sesudah tahun 2020\n",
        "  return(((-1)*N*t**2 + t*(N**2) + 2020*(N**2) - 2020*(N**2)) + 2.7386438779129763)\n",
        "\n",
        "for i in range(10):\n",
        "  if(t<=2020): #kondisi untuk sebelum tahun 2020\n",
        "    k1 = before(N)*dt\n",
        "    k2 = before(N+k1)*dt*0.5\n",
        "    k3 = before(N+k1+k2)*dt*0.5\n",
        "    k4 = before(N+k1+k2+k3)*dt\n",
        "    y = (k1+ 2*k2 + 2*k3 + k4)/6\n",
        "    Nnew = N + y\n",
        "    N_array.append(Nnew)\n",
        "    N = Nnew\n",
        "    t+=1\n",
        "    t_array.append(t)\n",
        "  else : #Kondisi untuk sesudah tahun 2020\n",
        "    k1 = after(N,t)*dt\n",
        "    k2 = after(N+k1,t)*dt*0.5\n",
        "    k3 = after(N+k1+k2,t)*dt*0.5\n",
        "    k4 = after(N+k1+k2+k3,t)*dt\n",
        "    y = (k1+ 2*k2 + 2*k3 + k4)/6\n",
        "    Nnew = N + y\n",
        "    N_array.append(Nnew)\n",
        "    N = Nnew\n",
        "    t+=1\n",
        "    t_array.append(t)\n",
        "\n",
        "  plt.plot(t_array,N_array) #dari grafik dapat terlihat bahwa menjadi asprak tidak mempunyai nilai minimum\n"
      ],
      "metadata": {
        "id": "IzMEodygXA_N",
        "colab": {
          "base_uri": "https://localhost:8080/",
          "height": 365
        },
        "outputId": "443c96ff-28d6-4c08-c431-563fac093d15"
      },
      "execution_count": null,
      "outputs": [
        {
          "output_type": "stream",
          "name": "stderr",
          "text": [
            "/usr/local/lib/python3.7/dist-packages/ipykernel_launcher.py:11: RuntimeWarning: overflow encountered in double_scalars\n",
            "  # This is added back by InteractiveShellApp.init_path()\n",
            "/usr/local/lib/python3.7/dist-packages/ipykernel_launcher.py:11: RuntimeWarning: invalid value encountered in double_scalars\n",
            "  # This is added back by InteractiveShellApp.init_path()\n"
          ]
        },
        {
          "output_type": "display_data",
          "data": {
            "text/plain": [
              "<Figure size 432x288 with 1 Axes>"
            ],
            "image/png": "[encoded data removed]"
          },
          "metadata": {
            "needs_background": "light"
          }
        }
      ]
    }
  ]
}