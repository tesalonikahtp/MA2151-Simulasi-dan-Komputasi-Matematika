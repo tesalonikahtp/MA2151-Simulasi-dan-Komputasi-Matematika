{
  "cells": [
    {
      "cell_type": "markdown",
      "source": [
        "**PRAKTIKUM KE-6**\n",
        "Tanggal: 24 11 2022"
      ],
      "metadata": {
        "id": "wZRRMjhqd1WX"
      }
    },
    {
      "cell_type": "markdown",
      "source": [
        " * Nama : Tesalonika Permatasari Hutapea\n",
        " * Nim  : 10121052"
      ],
      "metadata": {
        "id": "VVb23kFWdG7r"
      }
    },
    {
      "cell_type": "code",
      "execution_count": null,
      "metadata": {
        "id": "S75f8GJliqDx"
      },
      "outputs": [],
      "source": [
        "# Import modul yang akan digunakan di sel ini\n",
        "\n",
        "import numpy as np\n",
        "import seaborn as sns\n",
        "import random\n",
        "import matplotlib.pyplot as plt\n",
        "import matplotlib.animation as animation\n",
        "from matplotlib import colors"
      ]
    },
    {
      "cell_type": "markdown",
      "source": [
        "#0. **Output Kedua Program**\n",
        "\n",
        "\n",
        "*   [Chernobyl](https://giphy.com/gifs/YYtd6LiyUq5lhXwemJ)\n",
        "*   [Black Summer]( https://giphy.com/gifs/r2DzT2Z9iw8LxK4hYs)\n",
        "\n"
      ],
      "metadata": {
        "id": "2ZVm8AWRK2Jd"
      }
    },
    {
      "cell_type": "markdown",
      "source": [
        "#1. **Chernobyl 1986 ☢**"
      ],
      "metadata": {
        "id": "LgkMy11GlR08"
      }
    },
    {
      "cell_type": "markdown",
      "source": [
        "Suara menggelegar membangungkan semua orang di Kota Pripyat pada pagi buta hari itu. Ya, yang ditakutkan semua orang akhirnya terjadi – salah satu reaktor di stasiun nuklir Chernobyl mengalami ledakan. Alhasil, ratusan ribu orang harus dievakuasi agar tidak terpapar zat-zat radioaktif seperti Ce-137 dan Sr-90. Kota Pripyat menjadi kota mati dalam sekejap, termasuk kehidupan di Sungai Pripyat.\n",
        "\n",
        "Kita akan coba simulasikan penyebaran radioaktif di Sungai Pripyat hari itu dengan ketentuan berikut:\n",
        "* Asumsikan Sungai Pripyat sebagai array berukuran 50x10 (panjang x lebar).\n",
        "* Tingkat pencemaran sungai akibat radioaktif diukur menggunakan skala 0 sampai 5, dengan 5 menandakan pencemaran paling parah.\n",
        "* Tingkat pencemaran sungai di akhir hari merupakan penjumlahan dari 25% tingkat pencemaran sel tersebut, 12.5% tingkat pencemaran bagian utara, timur, selatan, dan barat sel, serta 6.25% tingkat pencemaran bagian barat laut, timur laut, tenggara, dan barat daya sel di akhir hari sebelumnya.\n",
        "* Gunakan reflecting boundary condition.\n",
        "* Pada kali pertama ledakan, tingkat pencemaran sungai ditunjukkan menurut gambar berikut.\n",
        "![river.PNG](data:image/png;base64,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)\n",
        "\n",
        "* Warna merah menandakan tingkat pencemaran 5, warna *orange* menandakan tingkat pencemaran 4, dan warna kuning menandakan tingkat pencemaran 3. Sel yang tidak berwarna berarti sungai tidak tercemar."
      ],
      "metadata": {
        "id": "P_4Osq9YncWq"
      }
    },
    {
      "cell_type": "markdown",
      "source": [
        "a. Buatlah grid kondisi awal sungai saat pertama kali terjadi ledakan. Tampilkan dengan grafik heatmap!\n",
        "\n",
        "*Note: kalau mau estetik boleh gunakan ketentuan berikut*\n",
        "```\n",
        "fig = plt.figure(figsize=(12.5,2.5))\n",
        "cmap='coolwarm', vmin=-2, vmax=5, xtiocklabels=False, yticklabels=False, cbar=False\n",
        "```\n",
        "\n"
      ],
      "metadata": {
        "id": "NyhAQ3f9TNyK"
      }
    },
    {
      "cell_type": "code",
      "source": [
        "RED = 5\n",
        "ORANGE = 4\n",
        "YELLOW = 3\n",
        "NONE = 0\n",
        "\n",
        "matriks = [[0 for i in range(50)] for j in range(10)]\n",
        "\n",
        "\n",
        "#Inisiasi matriks\n",
        "for j in range(36,46):\n",
        "  for i in range(4):\n",
        "    matriks[i][j] = ORANGE\n",
        "\n",
        "for j in range(7):\n",
        "  for i in range(3,8):\n",
        "    matriks[i][j] = RED\n",
        "\n",
        "for j in range(23,29):\n",
        "  for i in range(8,10):\n",
        "    matriks[i][j] = YELLOW\n",
        "\n",
        "# Plot heatmap\n",
        "fig = plt.figure(figsize=(12.5,2.5))\n",
        "ax = sns.heatmap(matriks, cmap='coolwarm', vmin=-2, vmax=5, xticklabels=False, yticklabels=False, cbar=False)\n"
      ],
      "metadata": {
        "id": "3pNCK-KpTPE4",
        "colab": {
          "base_uri": "https://localhost:8080/",
          "height": 167
        },
        "outputId": "861d8825-c0cf-40a4-c1b7-0fb0c560f57d"
      },
      "execution_count": null,
      "outputs": [
        {
          "output_type": "display_data",
          "data": {
            "text/plain": [
              "<Figure size 900x180 with 1 Axes>"
            ],
            "image/png": "[encoded data removed]"
          },
          "metadata": {}
        }
      ]
    },
    {
      "cell_type": "markdown",
      "source": [
        "b. Buat fungsi `reflecting` yang menerima suatu grid sebagai masukan, dan mengeluarkan grid yang di-*extend* sebesar satu sel di semua arah dengan *reflecting boundary conditions*. Untuk menguji apakah fungsi yang dibangun sudah benar, terapkan fungsi `reflecting` tersebut terhadap grid sungai awal yang Anda buat di butir (a)!"
      ],
      "metadata": {
        "id": "rq7Kn9Ujm-xd"
      }
    },
    {
      "cell_type": "code",
      "source": [
        "rand1 = 50\n",
        "rand2 = 10\n",
        "\n",
        "#periodic\n",
        "new_2 = [[0 for i in range(rand1+2)] for j in range(rand2+2)] #indeks maks ada di rand+1\n",
        "for j in range(1,rand1+1):\n",
        "  for i in range(1,rand2+1):\n",
        "    new_2[i][j] = matriks[i-1][j-1]\n",
        "\n",
        "for j in range(rand1+2):\n",
        "  if(j==0):\n",
        "    new_2[0][j] = matriks[0][0] #pojok kiri atas\n",
        "    new_2[rand2+1][j] = matriks[rand2-1][0] #pojok kiri bawah\n",
        "  elif(j==rand1+1):\n",
        "    new_2[0][j] = matriks[0][rand1-1] #pojok kanan atas\n",
        "    new_2[rand2+1][rand1+1] = matriks[rand2-1][rand1-1] #pojok kanan bawah\n",
        "  else :\n",
        "    new_2[0][j] = matriks[0][j-1] #barikade atas kecuali pojok\n",
        "    new_2[rand2+1][j] = matriks[rand2-1][j-1] #barikade bawah kecuali pojok\n",
        "\n",
        "for i in range(1,rand2+1):\n",
        "  new_2[i][0] = matriks[i-1][0] #barikade samping kecuali pojok\n",
        "  new_2[i][rand1+1] = matriks[i-1][rand1-1] #barikade samping kecuali pojok\n",
        "\n",
        "\n",
        "print(\"Reflecting boundary:\")\n",
        "\n",
        "# Plot heatmap\n",
        "fig = plt.figure(figsize=(12.5,2.5))\n",
        "ax = sns.heatmap(new_2, cmap='coolwarm', vmin=-2, vmax=5, xticklabels=False, yticklabels=False, cbar=False)"
      ],
      "metadata": {
        "id": "AZv_oZnnwO_T",
        "colab": {
          "base_uri": "https://localhost:8080/",
          "height": 184
        },
        "outputId": "4ea62488-2f90-4767-855a-8fd5c5a96e2b"
      },
      "execution_count": null,
      "outputs": [
        {
          "output_type": "stream",
          "name": "stdout",
          "text": [
            "Reflecting boundary:\n"
          ]
        },
        {
          "output_type": "display_data",
          "data": {
            "text/plain": [
              "<Figure size 900x180 with 1 Axes>"
            ],
            "image/png": "[encoded data removed]"
          },
          "metadata": {}
        }
      ]
    },
    {
      "cell_type": "markdown",
      "source": [
        "c. Buat fungsi `diffusion` yang mengeluarkan nilai akhir suatu sel setelah berdifusi\n",
        "\n",
        "*Hint: apa saja inputnya?*"
      ],
      "metadata": {
        "id": "5hGL0uHzoqZm"
      }
    },
    {
      "cell_type": "code",
      "source": [
        "def spread(site, N, E, S, W, BL, TL, TG, BD):\n",
        "  site = 0.25*site + 0.125*(N + E + S + W) + 0.0625*(BL + TL + TG + BD)\n",
        "  return site\n",
        "\n",
        "\n",
        "def neww(matriks):\n",
        "  for j in range(1,rand1+1):\n",
        "    for i in range(1,rand2+1):\n",
        "      site = new_2[i][j]\n",
        "      N = matriks[i - 1][j]\n",
        "      E = matriks[i][j + 1]\n",
        "      S = matriks[i + 1][j]\n",
        "      W = matriks[i][j - 1]\n",
        "      BL = matriks[i - 1][j - 1]\n",
        "      TL = matriks[i - 1][j + 1]\n",
        "      TG = matriks[i + 1][j + 1]\n",
        "      BD = matriks[i + 1][j - 1]\n",
        "      new_2[i-1][j-1] = spread(site, N, E, S, W)\n",
        "  return new_2\n",
        "\n"
      ],
      "metadata": {
        "id": "sBtmY1VhvBph"
      },
      "execution_count": null,
      "outputs": []
    },
    {
      "cell_type": "markdown",
      "source": [
        "d. Buat fungsi `simul` yang melakukan satu kali \"iterasi\" dari simulasi\n",
        "\n",
        "*Hint: apa outputnya?*"
      ],
      "metadata": {
        "id": "dEai1F83o6_H"
      }
    },
    {
      "cell_type": "code",
      "source": [
        "def spread(site, N, E, S, W, BL, TL, TG, BD):\n",
        "  site = 0.25*site + 0.125*(N + E + S + W) + 0.0625*(BL + TL + TG + BD)\n",
        "  return site\n",
        "\n",
        "\n",
        "def neww(matriks):\n",
        "  for j in range(1,rand1+1):\n",
        "    for i in range(1,rand2+1):\n",
        "      site = new_2[i][j]\n",
        "      N = matriks[i - 1][j]\n",
        "      E = matriks[i][j + 1]\n",
        "      S = matriks[i + 1][j]\n",
        "      W = matriks[i][j - 1]\n",
        "      BL = matriks[i - 1][j - 1]\n",
        "      TL = matriks[i - 1][j + 1]\n",
        "      TG = matriks[i + 1][j + 1]\n",
        "      BD = matriks[i + 1][j - 1]\n",
        "      new_2[i-1][j-1] = spread(site, N, E, S, W, BL, TL, TG, BD)\n",
        "  return new_2\n",
        "\n",
        "# Plot heatmap\n",
        "fig = plt.figure(figsize=(12.5,2.5))\n",
        "ax = sns.heatmap(new_2, cmap='coolwarm', vmin=-2, vmax=5, xticklabels=False, yticklabels=False, cbar=False)"
      ],
      "metadata": {
        "id": "Fz2zU1UTwnzH",
        "colab": {
          "base_uri": "https://localhost:8080/",
          "height": 167
        },
        "outputId": "e530c59c-4cde-4a9d-b104-01d972ecfa20"
      },
      "execution_count": null,
      "outputs": [
        {
          "output_type": "display_data",
          "data": {
            "text/plain": [
              "<Figure size 900x180 with 1 Axes>"
            ],
            "image/png": "[encoded data removed]"
          },
          "metadata": {}
        }
      ]
    },
    {
      "cell_type": "markdown",
      "source": [
        "e. Lakukan simulasi selama 60 hari!\n",
        "\n",
        "*Untuk membantu Anda membuat animasi, disarankan untuk menyimpan hasil simulasi per harinya dalam suatu array.*"
      ],
      "metadata": {
        "id": "-c0zmeUnpVhL"
      }
    },
    {
      "cell_type": "code",
      "source": [
        "time = 60\n",
        "\n",
        "def play(time):\n",
        "  new_2 = matriks\n",
        "\n",
        "  grids = np.zeros((time+1, 10, 50))\n",
        "  grids[0][:][:] = matriks #saat t=0, new_2 = matriks\n",
        "  for i in range(1, time+1):\n",
        "    new_2 = neww(matriks)\n",
        "    grids[i][:][:] = matriks\n",
        "  return grids\n",
        "\n",
        "for i in range(60):\n",
        "  print(neww(matriks))\n"
      ],
      "metadata": {
        "id": "Pzv-U71971_b"
      },
      "execution_count": null,
      "outputs": []
    },
    {
      "cell_type": "markdown",
      "source": [
        "f. Buat animasi dari hasil simulasi!"
      ],
      "metadata": {
        "id": "-gSDmCgzp6xL"
      }
    },
    {
      "cell_type": "code",
      "source": [
        "final=play(time)\n",
        "\n",
        "# Menyiapkan figure, heatmap\n",
        "fig = plt.figure()\n",
        "\n",
        "# Fungsi init\n",
        "def init():\n",
        "  plt.clf()\n",
        "  return None\n",
        "\n",
        "# Fungsi iterasi animasi\n",
        "def animate(i):\n",
        "  plt.clf()\n",
        "  ax = sns.heatmap(final[i-1],\n",
        "                   vmin=0,\n",
        "                   center=1,\n",
        "                   vmax=2,\n",
        "                   cmap=\"Reds\",\n",
        "                   square=True,\n",
        "                   xticklabels=False,\n",
        "                   yticklabels=False,\n",
        "                   )\n",
        "\n",
        "\n",
        "# Fungsi init\n",
        "anim = animation.FuncAnimation(fig,\n",
        "                               animate,\n",
        "                               frames=range(1, time+1, 1),\n",
        "                               blit=False,\n",
        "                               interval=250,\n",
        "                               init_func=init)\n",
        "\n",
        "# Kode tambahan jika dijalankan di colab/jupyter\n",
        "from matplotlib import rc\n",
        "from IPython.display import HTML\n",
        "rc('animation', html='jshtml')\n",
        "anim\n"
      ],
      "metadata": {
        "id": "6KcboVjt_LPC"
      },
      "execution_count": null,
      "outputs": []
    },
    {
      "cell_type": "markdown",
      "source": [
        "#2. $Black$ $Summer$ (Australia 2019 - 2020)"
      ],
      "metadata": {
        "id": "6qujTNWQ9boq"
      }
    },
    {
      "cell_type": "markdown",
      "source": [
        "Black Summer merupakan fenomena kebakaran hutan di berbagai penjuru Australia. Tragedi ini terukir dalam sejarah sebagai musim kebakaran hutan terburuk di Dunia. Bukan tanpa sebab, total kerusakan lahan diperkirakan mencapai 186 juta hektare. Salah satu penyebab utama peristiwa ini ialah perubahan iklim yang ekstrim  di wilayah Australia.  \n",
        "\n",
        "Sudah 2 tahun berlalu, pemerintah Australia masih kesulitan dalam menentukan titik awal kebakaran serta wilayah hutan yang rentan terbakar secara tiba-tiba. Anda sebagai ahli matematika mengajukan diri untuk merekontruksi ulang peristiwa Black Summer di Australia.\n",
        "\n",
        "Pemerintah Australia menyediakan berbagai *Basic Coding* atau *Template* yang dapat anda gunakan secara langsung. Fokuslah dalam membangun Algoritma *Function* dan Simulasi !"
      ],
      "metadata": {
        "id": "8spGoTDDBpFl"
      }
    },
    {
      "cell_type": "code",
      "source": [
        "# Seed\n",
        "np.random.seed(69420)\n",
        "\n",
        "# Dimensi Matriks\n",
        "m = 50; n = 50\n",
        "\n",
        "# Deklarasi Grid\n",
        "Environment = np.zeros(shape=(m+2,n+2))\n",
        "Rand_Matriks = np.random.rand(m+2,n+2)\n",
        "\n",
        "# Var\n",
        "RIVER = 3\n",
        "BURNING = 2\n",
        "TREE = 1\n",
        "EMPTY = 0\n",
        "\n",
        "# Probability Awal\n",
        "probTree = 0.1\n",
        "probBurning = 0.075 ;\n",
        "\n",
        "# cmap\n",
        "forest_map = colors.LinearSegmentedColormap.from_list('forest_map', [\"black\",\"green\",\"red\",\"lightblue\",'yellow'])"
      ],
      "metadata": {
        "id": "iONu9Leffw9e"
      },
      "execution_count": null,
      "outputs": []
    },
    {
      "cell_type": "markdown",
      "source": [
        "### a. Bangun suatu fungsi `Init_Forest` dan `Perodic_Boundary` dengan kriteria sebagai berikut:"
      ],
      "metadata": {
        "id": "J_89FsdfYXyC"
      }
    },
    {
      "cell_type": "markdown",
      "source": [
        "Function `Init_Forest` dengan Input :\n",
        "\n",
        "*   **m**, Dimensi Baris pada Grid.\n",
        "*   **n**, Dimensi Kolom pada Grid.\n",
        "*   **Environment**, Grid Lingkungan dengan dimensi (m+2) x (n+2)\n",
        "*   **ProbTree**, Probabilitas suatu grid memuat pohon dalam kondisi awal.\n",
        "*   **ProbBurning**, Probabilitas suatu grid terbakar dalam kondisi awal.\n",
        "\n",
        "Key Points :\n",
        "1.   Suatu cell yang BURNING harus memuat TREE terlebih dahulu.\n",
        "2.   Andaikan suatu cell tidak memuat TREE ataupun BURNING, maka cell tersebut EMPTY.\n",
        "3.   Bangun RIVER pada **Environment** Baris ke-10 dan Kolom ke-20.\n",
        "\n",
        "Output : **Environment** hutan yang diinisiasi !\n",
        "\n",
        "*Hint* : Gunakan `np.random.random()` untuk *generate* peluang acak."
      ],
      "metadata": {
        "id": "Au24Er9vbgTo"
      }
    },
    {
      "cell_type": "code",
      "execution_count": null,
      "metadata": {
        "id": "nflyY_LPVQ3H",
        "colab": {
          "base_uri": "https://localhost:8080/",
          "height": 289
        },
        "outputId": "8219c86f-1c2d-4f7b-b8d8-c6b280d71c9f"
      },
      "outputs": [
        {
          "output_type": "stream",
          "name": "stdout",
          "text": [
            "AxesSubplot(0.125,0.125;0.62x0.755)\n"
          ]
        },
        {
          "output_type": "display_data",
          "data": {
            "text/plain": [
              "<Figure size 432x288 with 2 Axes>"
            ],
            "image/png": "[encoded data removed]"
          },
          "metadata": {
            "needs_background": "light"
          }
        }
      ],
      "source": [
        "def Init_Forest(m,n,Environment,probTree,probBurning):\n",
        "  Environment = np.zeros((m,n))\n",
        "  for i in range(1,m):\n",
        "    for j in range (1,n):\n",
        "      rand = np.random.random()\n",
        "      if rand < probTree :\n",
        "        Environment[i][j] = TREE\n",
        "        rand2 = np.random.random()\n",
        "        if rand2 < probBurning:\n",
        "          Environment[i][j] = BURNING\n",
        "      else:\n",
        "        Environment[i][j] = EMPTY\n",
        "  Environment[10] = RIVER\n",
        "  Environment[:,20] = RIVER\n",
        "  return Environment\n",
        "print(sns.heatmap(Init_Forest(m,n,Environment,probTree,probBurning)))"
      ]
    },
    {
      "cell_type": "markdown",
      "source": [
        "Function `Periodic_Boundary` dengan Input:\n",
        "\n",
        "*   **m**, Dimensi Baris pada Grid.\n",
        "*   **n**, Dimensi Kolom pada Grid.\n",
        "*   **Environment**, Grid Lingkungan dengan dimensi (m+2) x (n+2)\n",
        "\n",
        "Output : **Environment** hutan dengan *Periodic Boundary* !\n"
      ],
      "metadata": {
        "id": "pIambn6tijo9"
      }
    },
    {
      "cell_type": "code",
      "source": [
        "def Periodic_Boundary(m,n,Environment):\n",
        "  Environment = [[0 for i in range(m+2)] for j in range(n+2)]\n",
        "  for j in range(1,m+1):\n",
        "    for i in range(1,n+1):\n",
        "      Environment[i][j] = Init_Forest(m,n,Environment,probTree,probBurning)[i-1][j-1]\n",
        "\n",
        "  for j in range(m+2):\n",
        "    if(j==0):\n",
        "      Environment[0][j] = Init_Forest(m,n,Environment,probTree,probBurning)[n-1][m-1] #pojok kiri atas\n",
        "      Environment[n+1][j] = Init_Forest(m,n,Environment,probTree,probBurning)[0][m-1] #pojok kiri bawah\n",
        "    elif(j==m+1):\n",
        "      Environment[0][j] = Init_Forest(m,n,Environment,probTree,probBurning)[n-1][0] #pojok kanan atas\n",
        "      Environment[n+1][m+1] = Init_Forest(m,n,Environment,probTree,probBurning)[0][0] #pojok kanan bawah\n",
        "    else :\n",
        "      Environment[0][j] = Init_Forest(m,n,Environment,probTree,probBurning)[n-1][j-1] #barikade atas kecuali pojok\n",
        "      Environment[n+1][j] = Init_Forest(m,n,Environment,probTree,probBurning)[0][j-1] #barikade bawah kecuali pojok\n",
        "\n",
        "  for i in range(1,m+1):\n",
        "    Environment[i][0] = Init_Forest(m,n,Environment,probTree,probBurning)[i-1][m-1] #barikade samping kecuali pojok\n",
        "    Environment[i][m+1] = Init_Forest(m,n,Environment,probTree,probBurning)[i-1][0] #barikade samping kecuali pojok\n",
        "\n",
        "  return Environment\n",
        "\n",
        "print(sns.heatmap(Periodic_Boundary(m,n,Environment)))\n"
      ],
      "metadata": {
        "id": "-cBX7eYvemGL",
        "colab": {
          "base_uri": "https://localhost:8080/",
          "height": 286
        },
        "outputId": "33c4a4b7-9196-4146-a28b-9ff27b898821"
      },
      "execution_count": null,
      "outputs": [
        {
          "output_type": "stream",
          "name": "stdout",
          "text": [
            "AxesSubplot(0.125,0.125;0.62x0.755)\n"
          ]
        },
        {
          "output_type": "display_data",
          "data": {
            "text/plain": [
              "<Figure size 432x288 with 2 Axes>"
            ],
            "image/png": "[encoded data removed]"
          },
          "metadata": {
            "needs_background": "light"
          }
        }
      ]
    },
    {
      "cell_type": "markdown",
      "source": [
        "Gunakan kedua fungsi tersebut untuk memperbaharui variabel **Environment** dan **Rand_Matriks**.\n",
        "\n",
        "Key Points : Suatu cell pada **Rand_Matriks** akan memiliki *value* jika dan hanya jika cell pada **Environment** EMPTY.\n",
        "\n",
        "Andaikan Key Points tak terpenuhi, isi cell **Rand_Matriks** dengan `0`.\n"
      ],
      "metadata": {
        "id": "NXywwk0OjEnz"
      }
    },
    {
      "cell_type": "code",
      "source": [
        "Environment =  Init_Forest(m,n,Est_map,vmin=0,vmax=4)\n",
        "plt.show()nvironment,probTree,probBurning)\n",
        "\n",
        "plt.title(\"Grid of Random Value for EMPTY cell\")\n",
        "plt.imshow(Rand_Matriks)\n",
        "plt.show() ; print()\n",
        "\n",
        "plt.title(\"Random Forest in Australia After Black Summer\")\n",
        "plt.imshow(Environment,cmap=fore"
      ],
      "metadata": {
        "id": "jl2qHDgKQfiC",
        "colab": {
          "base_uri": "https://localhost:8080/",
          "height": 562
        },
        "outputId": "f3413cf3-ed03-4d0e-e95d-07f4f1dceebb"
      },
      "execution_count": null,
      "outputs": [
        {
          "output_type": "display_data",
          "data": {
            "text/plain": [
              "<Figure size 432x288 with 1 Axes>"
            ],
            "image/png": "[encoded data removed]"
          },
          "metadata": {
            "needs_background": "light"
          }
        },
        {
          "output_type": "stream",
          "name": "stdout",
          "text": [
            "\n"
          ]
        },
        {
          "output_type": "display_data",
          "data": {
            "text/plain": [
              "<Figure size 432x288 with 1 Axes>"
            ],
            "image/png": "[encoded data removed]"
          },
          "metadata": {
            "needs_background": "light"
          }
        }
      ]
    },
    {
      "cell_type": "markdown",
      "source": [
        "Berkat bantuan Anda, pemerintah Australia memahami kondisi hutan terkini setelah tragedi Black Summer. Oleh karena itu, mereka meminta anda melanjutkan simulasi penyebaran api, tapi terbalik!\n",
        "\n",
        "Anda diminta merekontruksi ulang kejadian tersebut hingga ditemukan titik awal api dan kondisi awal hutan sebelum terjadi tragedi Black Summer. Mengingat Anda merupakan seseorang yang gigih dan menikmati tantangan, Anda menyanggupi permintaan tersebut."
      ],
      "metadata": {
        "id": "KdeIdilNo3d8"
      }
    },
    {
      "cell_type": "markdown",
      "source": [
        "## b. Bangun suatu fungsi `Detection` dengan kriteria sebagai berikut:"
      ],
      "metadata": {
        "id": "8dClXqpJsRTp"
      }
    },
    {
      "cell_type": "markdown",
      "source": [
        "Catatan : Ingat bahwa Anda merekontruksi ulang kejadian penyebaran api secara terbalik. Oleh karena itu, kami sarankan Anda membaca dan memahami prosedur yang akan kami sampaikan dengan Baik."
      ],
      "metadata": {
        "id": "d_aIuRsXsbJP"
      }
    },
    {
      "cell_type": "markdown",
      "source": [
        "Function `Detection` dengan Input :\n",
        "\n",
        "*   **site**, **Environment** Grid\n",
        "*   **rand_matriks**, **Rand_Matriks** Grid.\n",
        "*   **i**, Index Baris ke-i dari Grid.\n",
        "*   **j**, Index Kolom ke-j dari Grid.\n",
        "\n",
        "Interesting Facts :  \n",
        "1.   Terdapat parameter `wind` dalam simulasi. Diketahui bahwa peristiwa Black Summer terjadi dengan arah angin menuju W, NW, N.\n",
        "2.   Value cell `rand_matriks` merupakan peluang cell tersebut terbakar.\n",
        "\n",
        "Key Points :\n",
        "\n",
        "1.   Definisikan ketetanggaan suatu cell `site[i][j]` dengan **Ketetanggaan Moore**.\n",
        "2.   Deklarasi Variabel `probImmune` dengan mengambil value cell `rand_matriks[i][j]`.\n",
        "3.   Parameter `wind` mempengaruhi simulasi. Andaikan Sesuai, maka definisikan `wind` dengan peluang 0.9 , bila tidak, 0.1.\n",
        "4.   Jika terdapat cell tetangga yang BURNING dan peluang `probImmune` serta peluang `wind` terpenuhi, maka keluarkan `output` True.\n",
        "Selain itu juga, Reset value cell `rand_matriks[i][j]` menjadi nol.\n",
        "\n",
        "Output : *Boolean Value*, True or False!\n",
        "\n",
        "*Hint* : Pastikan kembali *conditional* apa saja yang harus terpenuhi, Hati-hati terbalik !"
      ],
      "metadata": {
        "id": "DCrReSQ3tqu3"
      }
    },
    {
      "cell_type": "code",
      "execution_count": null,
      "metadata": {
        "id": "tbRYcTSXSpKP"
      },
      "outputs": [],
      "source": [
        "i = 52\n",
        "j = 52\n",
        "wind = 0.9\n",
        "\n",
        "def Detection(site,rand_matriks,i,j):\n",
        "  site = Environment[i][j]\n",
        "  for m in range(i):\n",
        "    for n in range(j):\n",
        "      if site = BURNING :\n",
        "        if rand_matriks[i][j] < wind :\n",
        "          site = TRUE\n",
        "\n",
        "\n",
        "  return output\n"
      ]
    },
    {
      "cell_type": "markdown",
      "source": [
        "##c. Bangun iterasi yang mensimulasikan rekontruksi tragedi Black Summer! Animasikan!"
      ],
      "metadata": {
        "id": "Dr2T8n_F5kyF"
      }
    },
    {
      "cell_type": "markdown",
      "source": [
        "Berikut merupakan penjelasan terkait simulasi serta penggunaan function yang telah anda bangun pada bagian (b).\n",
        "\n",
        "*   Simulasi terjadi dalam 30 hari.\n",
        "*   Andaikan terdapat **Environment** cell EMPTY, maka `Detection` berjalan. Jika True merupakan output fungsi `Detection`, maka isi cell **Past_Environment** menjadi BURNING.\n",
        "*   Andaikan terdapat **Environment** cell BURNING maka ubah cell **Past_Environment** menjadi TREE.\n",
        "*   Jangan lupa update **Environment** dengan **Past_Environment** dan `Periodic_Boundary`."
      ],
      "metadata": {
        "id": "71ZGNSR757ab"
      }
    },
    {
      "cell_type": "code",
      "execution_count": null,
      "metadata": {
        "id": "-I-nN7YCdbGT"
      },
      "outputs": [],
      "source": [
        "Past_Environment = np.copy(Environment);\n",
        "\n",
        "# Array Animasi\n",
        "Data = [Environment]\n",
        "\n",
        "lengthSimul = #..<Silahkan Isi Disini>..\n",
        "for k in range (0): #..<Silahkan Isi Disini>..\n",
        "  for i in range (0): #..<Silahkan Isi Disini>..\n",
        "    for j in range (0): #..<Silahkan Isi Disini>..\n",
        "\n",
        "      #..<Silahkan Isi Disini>..\n",
        "\n",
        "  if 0: #..<Silahkan Isi Disini>..\n",
        "    #..<Silahkan Isi Disini>..\n",
        "  #..<Silahkan Isi Disini>..\n",
        "  Data.append(Environment)"
      ]
    },
    {
      "cell_type": "code",
      "execution_count": null,
      "metadata": {
        "id": "IvGLqg7Fidyq"
      },
      "outputs": [],
      "source": [
        "# Animasi\n",
        "\n",
        "fig = plt.figure(figsize=(4,4))\n",
        "def animate(i):\n",
        "    data = Data[i]\n",
        "    sns.heatmap(data, vmin=0, vmax=4, cbar=False, cmap=forest_map)\n",
        "\n",
        "anim = animation.FuncAnimation(fig, animate, interval=45, frames=lengthSimul, repeat=False)\n",
        "from matplotlib import animation\n",
        "\n",
        "from matplotlib import rc\n",
        "from IPython.display import HTML\n",
        "rc('animation', html='jshtml')\n",
        "anim"
      ]
    }
  ],
  "metadata": {
    "colab": {
      "provenance": []
    },
    "kernelspec": {
      "display_name": "Python 3",
      "name": "python3"
    },
    "language_info": {
      "name": "python"
    }
  },
  "nbformat": 4,
  "nbformat_minor": 0
}