{
  "nbformat": 4,
  "nbformat_minor": 0,
  "metadata": {
    "colab": {
      "provenance": []
    },
    "kernelspec": {
      "name": "python3",
      "display_name": "Python 3"
    },
    "language_info": {
      "name": "python"
    }
  },
  "cells": [
    {
      "cell_type": "markdown",
      "source": [
        "**PRAKTIKUM KE-1**\n",
        "Tanggal: 08 09 2022"
      ],
      "metadata": {
        "id": "wZRRMjhqd1WX"
      }
    },
    {
      "cell_type": "markdown",
      "source": [
        " * Nama : Tesalonika Permatasari Hutapea\n",
        " * Nim  : 10121052"
      ],
      "metadata": {
        "id": "VVb23kFWdG7r"
      }
    },
    {
      "cell_type": "code",
      "execution_count": null,
      "metadata": {
        "id": "uUXgHeXSkKJi"
      },
      "outputs": [],
      "source": [
        "# Import modul yang akan digunakan di sel ini\n"
      ]
    },
    {
      "cell_type": "markdown",
      "source": [
        "# **1.**"
      ],
      "metadata": {
        "id": "bXkFMk-LeYzs"
      }
    },
    {
      "cell_type": "code",
      "source": [
        "#Masukan dan inisiasi\n",
        "n = int(input(\"Masukkan bilangan n = \"))\n",
        "fac = 1\n",
        "\n",
        "#perulangan\n",
        "while (n!=0):\n",
        "  for i in range(1,n+1):\n",
        "    fac*=i\n",
        "  print(n,\"faktorial adalah\",fac) # hasil faktorial\n",
        "  fac = 1 #inisiasi awal untuk mengulang input agar terus berulang selama inputan bukan bilangan 0\n",
        "  n = int(input(\"Masukkan bilangan n = \"))\n",
        "\n",
        "else:\n",
        "  print(\"Bilangan 0, program selesai\")\n"
      ],
      "metadata": {
        "id": "R_j8hYqceYJ7",
        "outputId": "3aa9fd9e-54e9-4871-b6c5-f0558832a4fd",
        "colab": {
          "base_uri": "https://localhost:8080/"
        }
      },
      "execution_count": null,
      "outputs": [
        {
          "output_type": "stream",
          "name": "stdout",
          "text": [
            "Masukkan bilangan n = 3\n",
            "3 faktorial adalah 6\n",
            "Masukkan bilangan n = 5\n",
            "5 faktorial adalah 120\n"
          ]
        }
      ]
    },
    {
      "cell_type": "markdown",
      "source": [
        "# **2.**"
      ],
      "metadata": {
        "id": "RuNzxu6RetTx"
      }
    },
    {
      "cell_type": "code",
      "source": [
        "#Inisiasi inputan\n",
        "n = int(input(\"Masukkan bilangan n = \"))\n",
        "cek = 0\n",
        "\n",
        "#Perulangan\n",
        "for i in range(1,n+1):\n",
        "  if(n%i==0):\n",
        "    cek+=1\n",
        "\n",
        "#Percabangan\n",
        "if(n>=2):\n",
        "  if(cek>2): #Bilangan prima hanya boleh dibagi bilangan 1 dan bilangan itu sendiri\n",
        "    print(\"Bilangan\",n,\"bukan prima\")\n",
        "  else:\n",
        "    print(\"Bilangan\",n, \"prima\")\n",
        "else :\n",
        "  print(\"Bilangan bukan prima\")"
      ],
      "metadata": {
        "id": "kxy9kiEZexbk",
        "colab": {
          "base_uri": "https://localhost:8080/"
        },
        "outputId": "243ac853-51ec-4044-be77-8c53f41e789f"
      },
      "execution_count": null,
      "outputs": [
        {
          "output_type": "stream",
          "name": "stdout",
          "text": [
            "Masukkan bilangan n = 1\n",
            "Bilangan bukan prima\n"
          ]
        }
      ]
    },
    {
      "cell_type": "markdown",
      "source": [
        "# **3.**"
      ],
      "metadata": {
        "id": "VQ4mnvxfeyAK"
      }
    },
    {
      "cell_type": "code",
      "source": [
        "#Inisiasi variabel\n",
        "fn_1 = 0 #Suku ke - 1\n",
        "fn_2 = 1 #Suku ke - 2\n",
        "fn_n = 0 #Suku ke - 3 dan seterusnya dimulai dengan 0\n",
        "i = 3 #Menunjukkan suku ke berapa\n",
        "while (i!=25): #jangan sampai i menyentuh 25 karena kalau 25 berarti suku ke 26\n",
        "  fn_3 = fn_2 + fn_1 #Formula dasar fibonacci\n",
        "  fn_1 = fn_2 #Inisiasi variabel terbaru, di sini suku sebelumnya akan maju ke suku selanjutnya\n",
        "  fn_2 = fn_3 #melakukan hal yang sama dengan fn_1\n",
        "  i+=1\n",
        "\n",
        "print(\"Nilai Fibonacci ke 24 adalah\",fn_3) #keluaran\n"
      ],
      "metadata": {
        "id": "M89YPWSZezEw",
        "colab": {
          "base_uri": "https://localhost:8080/"
        },
        "outputId": "498e8b86-0af2-4693-b59a-8d24b7bfaf4b"
      },
      "execution_count": null,
      "outputs": [
        {
          "output_type": "stream",
          "name": "stdout",
          "text": [
            "Nilai Fibonacci ke 24 adalah 28657\n"
          ]
        }
      ]
    }
  ]
}